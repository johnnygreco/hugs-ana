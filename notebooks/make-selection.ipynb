{
 "cells": [
  {
   "cell_type": "code",
   "execution_count": 1,
   "metadata": {
    "collapsed": false
   },
   "outputs": [
    {
     "name": "stdout",
     "output_type": "stream",
     "text": [
      "Warning: must have lsst stack installed to use the imfit and task modules\n"
     ]
    }
   ],
   "source": [
    "%matplotlib inline\n",
    "import os\n",
    "import hugs\n",
    "import pandas as pd\n",
    "import matplotlib.pyplot as plt\n",
    "import webbrowser\n",
    "from astropy.table import Table\n",
    "plt.style.use('jpg')\n",
    "from toolbox.cats import crossmatch\n",
    "from toolbox.cosmo import Cosmology\n",
    "from toolbox.astro import angsep\n",
    "cosmo = Cosmology()"
   ]
  },
  {
   "cell_type": "code",
   "execution_count": 2,
   "metadata": {
    "collapsed": true
   },
   "outputs": [],
   "source": [
    "path = os.path.join(os.environ.get('HUGS_PIPE_IO'), 'patches-run-20170208-223945')\n",
    "butler = hugs.datasets.CatButler(path)\n",
    "out_fn = os.path.join(path, 'patch-combined-cat.csv')\n",
    "out_fn_no_dup = os.path.join(path, 'patch-combined-cat-no-duplicates.csv')"
   ]
  },
  {
   "cell_type": "code",
   "execution_count": 3,
   "metadata": {
    "collapsed": true
   },
   "outputs": [],
   "source": [
    "local_io = os.environ.get('LOCAL_DATA')\n",
    "oldcat = pd.read_csv(os.path.join(local_io, 'hsc/stamps/candy/20170130-143629/candy.csv'))"
   ]
  },
  {
   "cell_type": "code",
   "execution_count": 5,
   "metadata": {
    "collapsed": false
   },
   "outputs": [],
   "source": [
    "if False:\n",
    "    cat = butler.combine_patch_cats()\n",
    "    cat.to_csv(out_fn, index=False)\n",
    "    hugs.datasets.hugged.remove_duplicates(cat)\n",
    "    cat.to_csv(out_fn_no_dup, index=False)\n",
    "else:\n",
    "    cat = pd.read_csv(out_fn_no_dup)\n",
    "cat['g-i'] = cat['MAG_APER_0(g)'] - cat['MAG_APER_0(i)']\n",
    "cat['g-r'] = cat['MAG_APER_0(g)'] - cat['MAG_APER_0(r)']"
   ]
  },
  {
   "cell_type": "code",
   "execution_count": 153,
   "metadata": {
    "collapsed": true
   },
   "outputs": [],
   "source": [
    "m, b = 0.6724944691862157, -0.3313339303786671\n",
    "color_line = lambda _x: m*_x + b"
   ]
  },
  {
   "cell_type": "code",
   "execution_count": 48,
   "metadata": {
    "collapsed": true
   },
   "outputs": [],
   "source": [
    "need_to_recover = [0, 101, 102, 103, 109, 115, 116, 120, 121, \n",
    "                   125, 126, 130, 134, 135, 137, 139, 140,\n",
    "                   142, 146, 153, 159, 162, 164, 171, 177, \n",
    "                   182, 184, 187, 190, 193, 196, 199, 202, \n",
    "                   209, 212, 24, 25, 26, 27, 28, 38, 39, 4, 63, 69]"
   ]
  },
  {
   "cell_type": "code",
   "execution_count": 70,
   "metadata": {
    "collapsed": false
   },
   "outputs": [],
   "source": [
    "nice_to_recover = [104, 136, 144, 15, 160, 169, 174, 175, 2, 214, 3, 31, 5, 50, 58, 74, 97]"
   ]
  },
  {
   "cell_type": "code",
   "execution_count": 253,
   "metadata": {
    "collapsed": false
   },
   "outputs": [],
   "source": [
    "ra, dec = oldcat.loc[196, ['ra', 'dec']]\n",
    "def hsc_map(ra, dec):\n",
    "    url = 'https://hscdata.mtk.nao.ac.jp/hsc_ssp/dr1/s16a/hscMap/'\n",
    "    url += '#%7B%22tract%22%3A%22s16a_wide%2F9560%22%2C%22view%22%'\n",
    "    url += '3A%7B%22center%22%3A%7B%22lat%22%3A'+str(ra)+'%2C%22lng%22%3A'\n",
    "    url += str(dec)+'%7D%2C%22zoom%22%3A18%7D%2C%22colorFilter%22%3A%22SDSS%'\n",
    "    url += '20True%20Color%22%2C%22colorFilter%2Fparams%2FSDSS%20True%20Color'\n",
    "    url += '-1%22%3A%7B%22bias%22%3A0%2C%22log_a%22%3A10.819778284410283%2C%22format'\n",
    "    url += '%22%3A%22png%22%2C%22filters%22%3A%5B%22I%22%2C%22R%22%2C%22G%22%5D%7D%7D'\n",
    "    webbrowser.open(url, new=1);"
   ]
  },
  {
   "cell_type": "code",
   "execution_count": 154,
   "metadata": {
    "collapsed": false
   },
   "outputs": [],
   "source": [
    "old_tab = Table.from_pandas(oldcat.loc[nice_to_recover].copy())\n",
    "new_tab = Table.from_pandas(cat.copy())\n",
    "old_matched, new_matched = crossmatch(old_tab, new_tab, maxsep=1.0)"
   ]
  },
  {
   "cell_type": "code",
   "execution_count": 397,
   "metadata": {
    "collapsed": false
   },
   "outputs": [
    {
     "name": "stdout",
     "output_type": "stream",
     "text": [
      "45 39 604\n"
     ]
    }
   ],
   "source": [
    "cut = cat['mu_aper_0(g)'] > 24.0\n",
    "#cut &= cat['r_e(i)'] < 100\n",
    "#cut &= cat['r_e(i)'] > 3.0\n",
    "cut &= cat['FLUX_RADIUS(i)'] > 2.5/0.168\n",
    "cut &= np.abs(cat['r_e(i)']-cat['r_e(g)'])<5.0\n",
    "cut &= np.abs(cat['dr_e(i)']) < 5.0\n",
    "cut &= np.abs(cat['dmu(i)']) < 1.0\n",
    "cut &= np.abs(cat['dmu(g)']) < 1.0\n",
    "cut &= np.abs(cat['dR0']) < 15\n",
    "#cut &= cat['n'] < 1.4\n",
    "cut &= cat['n'] > 0.01\n",
    "cut &= cat['ell']<0.70\n",
    "\n",
    "color_cut = (cat['g-r'] > color_line(cat['g-i']))\n",
    "color_cut &= cat['g-i'] < 1.9\n",
    "color_cut &= cat['g-i'] > 0.\n",
    "color_cut &= cat['g-r'] < 1.5\n",
    "color_cut &= cat['g-r'] > 0.\n",
    "cut &= color_cut\n",
    "\n",
    "sample = cat[cut].copy()\n",
    "#hugs.datasets.hugged.remove_duplicates(sample)\n",
    "\n",
    "idx = need_to_recover\n",
    "old_tab = Table.from_pandas(oldcat.loc[idx].copy())\n",
    "\n",
    "sample_table = Table.from_pandas(sample.copy())\n",
    "old_matched, new_matched = crossmatch(old_tab, sample_table, maxsep=0.7)\n",
    "print len(idx), len(new_matched), len(sample)"
   ]
  },
  {
   "cell_type": "code",
   "execution_count": 391,
   "metadata": {
    "collapsed": false
   },
   "outputs": [],
   "source": [
    "missing = []\n",
    "for i, (ra, dec) in enumerate(old_tab['ra', 'dec']):\n",
    "    if angsep(ra, dec, old_matched['ra'], old_matched['dec']).min()>0.7:\n",
    "        missing.append(i)"
   ]
  },
  {
   "cell_type": "code",
   "execution_count": 398,
   "metadata": {
    "collapsed": false
   },
   "outputs": [],
   "source": [
    "#old_tab[missing]['ra', 'dec', 'mu_0(g)', 'FLUX_RADIUS(i)'].as_array()"
   ]
  },
  {
   "cell_type": "code",
   "execution_count": 372,
   "metadata": {
    "collapsed": false
   },
   "outputs": [],
   "source": [
    "for ra, dec in old_tab[missing]['ra', 'dec']:\n",
    "    hsc_map(ra, dec)"
   ]
  },
  {
   "cell_type": "code",
   "execution_count": 77,
   "metadata": {
    "collapsed": false
   },
   "outputs": [],
   "source": [
    "if False:\n",
    "    for i, (ra, dec) in enumerate(old_tab['ra', 'dec']):\n",
    "        print need_to_recover[i], angsep(ra, dec, new_tab['ra'], new_tab['dec']).min()\n",
    "    tract, patch, ra, dec, ximage, yimage = oldcat.loc[196, ['tract', 'patch', 'ra', 'dec', 'X_IMAGE', 'Y_IMAGE']]\n",
    "    miss_cat = butler.get_patch_cat(tract, patch, kind='all')"
   ]
  },
  {
   "cell_type": "code",
   "execution_count": 395,
   "metadata": {
    "collapsed": false
   },
   "outputs": [],
   "source": [
    "sample.to_csv('/Users/protostar/Desktop/sample-aggresive-cuts.csv', index=False)"
   ]
  }
 ],
 "metadata": {
  "anaconda-cloud": {},
  "kernelspec": {
   "display_name": "Python [conda env:lsst]",
   "language": "python",
   "name": "conda-env-lsst-py"
  },
  "language_info": {
   "codemirror_mode": {
    "name": "ipython",
    "version": 2
   },
   "file_extension": ".py",
   "mimetype": "text/x-python",
   "name": "python",
   "nbconvert_exporter": "python",
   "pygments_lexer": "ipython2",
   "version": "2.7.12"
  }
 },
 "nbformat": 4,
 "nbformat_minor": 2
}
