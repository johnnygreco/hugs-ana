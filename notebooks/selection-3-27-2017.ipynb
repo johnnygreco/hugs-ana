{
 "cells": [
  {
   "cell_type": "code",
   "execution_count": 1,
   "metadata": {
    "collapsed": true
   },
   "outputs": [],
   "source": [
    "%matplotlib inline\n",
    "from __future__ import division, print_function\n",
    "import os\n",
    "import hugs\n",
    "import pandas as pd\n",
    "import matplotlib.pyplot as plt\n",
    "import webbrowser\n",
    "from astropy.table import Table\n",
    "from toolbox.cats import crossmatch\n",
    "from toolbox.cosmo import Cosmology\n",
    "from toolbox.astro import angsep\n",
    "cosmo = Cosmology()\n",
    "plt.style.use('jpg')"
   ]
  },
  {
   "cell_type": "markdown",
   "metadata": {},
   "source": [
    "## Get Data"
   ]
  },
  {
   "cell_type": "code",
   "execution_count": 18,
   "metadata": {
    "collapsed": true
   },
   "outputs": [],
   "source": [
    "path = '/Volumes/tigress/hugs-pipe-io/patches-run-20170228-173126/'\n",
    "butler = hugs.datasets.CatButler(path)\n",
    "outdir = os.path.join(os.environ.get('HUGS_PIPE_IO'), 'sample-3-27-2017')\n",
    "cat_fn = os.path.join(outdir, 'cat-3-27-2017.csv')\n",
    "\n",
    "if os.path.isfile(cat_fn):\n",
    "    cat = pd.read_csv(cat_fn)\n",
    "else:\n",
    "    cat = butler.combine_patch_cats()\n",
    "    cat_all = cat.copy()\n",
    "    hugs.datasets.hugged.remove_duplicates(cat)\n",
    "    cat['g-i'] = cat['MAG_APER_0(g)'] - cat['MAG_APER_0(i)']\n",
    "    cat['g-r'] = cat['MAG_APER_0(g)'] - cat['MAG_APER_0(r)']\n",
    "    cat.to_csv(cat_fn, index=False)"
   ]
  },
  {
   "cell_type": "markdown",
   "metadata": {},
   "source": [
    "## Make Selection"
   ]
  },
  {
   "cell_type": "code",
   "execution_count": 39,
   "metadata": {
    "collapsed": false
   },
   "outputs": [
    {
     "name": "stdout",
     "output_type": "stream",
     "text": [
      "473 candidates in sample\n"
     ]
    }
   ],
   "source": [
    "m, b = 0.6724944691862157, -0.3313339303786671\n",
    "color_line = lambda _x: m*_x + b\n",
    "\n",
    "cut = cat['mu_aper_0(g)'] > 24.0\n",
    "cut &= cat['FLUX_RADIUS(i)'] > 3.0/0.168\n",
    "cut &= np.abs(cat['r_e(i)']-cat['r_e(g)'])<5.0\n",
    "cut &= np.abs(cat['dr_e(i)']) < 5.0\n",
    "cut &= np.abs(cat['dmu(i)']) < 1.0\n",
    "cut &= np.abs(cat['dmu(g)']) < 1.0\n",
    "cut &= np.abs(cat['dR0']) < 15\n",
    "cut &= cat['n'] > 0.01\n",
    "cut &= cat['ell']<0.70\n",
    "\n",
    "color_cut = (cat['g-r'] > color_line(cat['g-i']))\n",
    "color_cut &= cat['g-i'] < 1.9\n",
    "color_cut &= cat['g-i'] > 0.\n",
    "color_cut &= cat['g-r'] < 1.5\n",
    "color_cut &= cat['g-r'] > 0.\n",
    "\n",
    "# no color cut for now\n",
    "#cut &= color_cut\n",
    "\n",
    "sample = cat[cut].copy()\n",
    "\n",
    "print(len(sample), 'candidates in sample')\n",
    "\n",
    "selection_fn = os.path.join(outdir, 'selection-3-27-2017.csv')\n",
    "sample.to_csv(selection_fn, index=False)"
   ]
  }
 ],
 "metadata": {
  "kernelspec": {
   "display_name": "Python [conda env:lsst]",
   "language": "python",
   "name": "conda-env-lsst-py"
  },
  "language_info": {
   "codemirror_mode": {
    "name": "ipython",
    "version": 2
   },
   "file_extension": ".py",
   "mimetype": "text/x-python",
   "name": "python",
   "nbconvert_exporter": "python",
   "pygments_lexer": "ipython2",
   "version": "2.7.12"
  }
 },
 "nbformat": 4,
 "nbformat_minor": 2
}
